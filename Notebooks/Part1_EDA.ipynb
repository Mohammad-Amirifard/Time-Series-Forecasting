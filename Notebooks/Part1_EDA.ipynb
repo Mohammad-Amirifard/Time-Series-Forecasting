{
  "cells": [
    {
      "cell_type": "markdown",
      "metadata": {
        "id": "view-in-github",
        "colab_type": "text"
      },
      "source": [
        "<a href=\"https://colab.research.google.com/github/Mohammad-Amirifard/Time-Series-Forecasting/blob/main/Notebooks/Part1_EDA.ipynb\" target=\"_parent\"><img src=\"https://colab.research.google.com/assets/colab-badge.svg\" alt=\"Open In Colab\"/></a>"
      ]
    },
    {
      "cell_type": "markdown",
      "source": [
        "###1- Connect Colab to Google Drive"
      ],
      "metadata": {
        "id": "RGBW-M2UCYsI"
      }
    },
    {
      "cell_type": "code",
      "source": [
        "from google.colab import drive\n",
        "drive.mount('/content/drive') # mount google drive to /content directory. You can see your drive on the left pannel."
      ],
      "metadata": {
        "colab": {
          "base_uri": "https://localhost:8080/"
        },
        "id": "OjclHaQgCe0a",
        "outputId": "daebb150-39c3-474d-a27d-3eca757460ee"
      },
      "execution_count": 2,
      "outputs": [
        {
          "output_type": "stream",
          "name": "stdout",
          "text": [
            "Mounted at /content/drive\n"
          ]
        }
      ]
    },
    {
      "cell_type": "code",
      "source": [
        "# Copy  Project to /content direcory. Please replace project_directory with yours.\n",
        "project_directory = \"/content/drive/MyDrive/Projects/Time_Series\"\n",
        "%cp -r {project_directory} /content"
      ],
      "metadata": {
        "colab": {
          "base_uri": "https://localhost:8080/"
        },
        "id": "CA0w4KFJ_wXR",
        "outputId": "5db0eecd-ac9b-42b5-d22e-223ff5ce0fc4"
      },
      "execution_count": 3,
      "outputs": [
        {
          "output_type": "stream",
          "name": "stdout",
          "text": [
            "cp: cannot open '/content/drive/MyDrive/Projects/Time_Series/NoteBooks/Access To Github.gdoc' for reading: Operation not supported\n",
            "cp: cannot open '/content/drive/MyDrive/Projects/Time_Series/Meeting Reports/EDA Part.gdoc' for reading: Operation not supported\n"
          ]
        }
      ]
    },
    {
      "cell_type": "markdown",
      "source": [
        "###2- Import Libraries"
      ],
      "metadata": {
        "id": "_4stBKa_AKu3"
      }
    },
    {
      "cell_type": "code",
      "source": [
        "import pandas as pd\n",
        "import numpy as np\n",
        "import matplotlib.pyplot as plt\n",
        "import seaborn as sns"
      ],
      "metadata": {
        "id": "uC68YwQGAPMf"
      },
      "execution_count": 4,
      "outputs": []
    },
    {
      "cell_type": "markdown",
      "source": [
        "###3- Load data"
      ],
      "metadata": {
        "id": "V1mM3hq9Ad13"
      }
    }
  ],
  "metadata": {
    "colab": {
      "collapsed_sections": [
        "TCaGhb5ttXGc",
        "kTu9Ca0L1Du2",
        "opLBOnWjWqay",
        "UCwCIzOF3qS9",
        "Jr9CX7CYdBg_",
        "whhopAgQrOCe",
        "cwIeug6N4_gv",
        "5lJYf5saMd_w",
        "A0u8JbMEIfva",
        "8CdluwNQ-ZCA",
        "M0z1nDnV-LYZ"
      ],
      "provenance": [],
      "gpuType": "T4",
      "include_colab_link": true
    },
    "kernelspec": {
      "display_name": "Python 3",
      "name": "python3"
    },
    "language_info": {
      "codemirror_mode": {
        "name": "ipython",
        "version": 3
      },
      "file_extension": ".py",
      "mimetype": "text/x-python",
      "name": "python",
      "nbconvert_exporter": "python",
      "pygments_lexer": "ipython3",
      "version": "3.8.8"
    },
    "accelerator": "GPU"
  },
  "nbformat": 4,
  "nbformat_minor": 0
}