{
  "cells": [
    {
      "cell_type": "markdown",
      "metadata": {
        "id": "view-in-github",
        "colab_type": "text"
      },
      "source": [
        "<a href=\"https://colab.research.google.com/github/Mohammad-Amirifard/Time-Series-Forecasting/blob/main/Time_Series_Forecasting.ipynb\" target=\"_parent\"><img src=\"https://colab.research.google.com/assets/colab-badge.svg\" alt=\"Open In Colab\"/></a>"
      ]
    }
  ],
  "metadata": {
    "colab": {
      "collapsed_sections": [
        "TCaGhb5ttXGc",
        "kTu9Ca0L1Du2",
        "opLBOnWjWqay",
        "UCwCIzOF3qS9",
        "Jr9CX7CYdBg_",
        "whhopAgQrOCe",
        "cwIeug6N4_gv",
        "5lJYf5saMd_w",
        "A0u8JbMEIfva",
        "8CdluwNQ-ZCA",
        "M0z1nDnV-LYZ"
      ],
      "provenance": [],
      "gpuType": "T4",
      "include_colab_link": true
    },
    "kernelspec": {
      "display_name": "Python 3",
      "name": "python3"
    },
    "language_info": {
      "codemirror_mode": {
        "name": "ipython",
        "version": 3
      },
      "file_extension": ".py",
      "mimetype": "text/x-python",
      "name": "python",
      "nbconvert_exporter": "python",
      "pygments_lexer": "ipython3",
      "version": "3.8.8"
    },
    "accelerator": "GPU"
  },
  "nbformat": 4,
  "nbformat_minor": 0
}
